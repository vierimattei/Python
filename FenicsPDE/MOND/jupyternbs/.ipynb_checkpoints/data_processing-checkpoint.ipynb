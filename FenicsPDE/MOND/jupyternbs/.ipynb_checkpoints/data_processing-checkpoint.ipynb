{
 "cells": [
  {
   "cell_type": "code",
   "execution_count": 11,
   "metadata": {
    "scrolled": false
   },
   "outputs": [
    {
     "data": {
      "text/html": [
       "<style>.container { width:100% !important; }</style>"
      ],
      "text/plain": [
       "<IPython.core.display.HTML object>"
      ]
     },
     "metadata": {},
     "output_type": "display_data"
    }
   ],
   "source": [
    "import numpy as np\n",
    "\n",
    "#Increasing the width of the notebook (visual difference only)\n",
    "from IPython.core.display import display, HTML\n",
    "display(HTML(\"<style>.container { width:100% !important; }</style>\"))\n",
    "\n",
    "import pandas as pd\n",
    "\n",
    "from MONDquantities import*\n",
    "\n",
    "#All the measurements use a reduced Hubble constant. As the Hubble constant can be expressed in terms\n",
    "#of Miglrom's constant and speed of light, we express it as that. I modified a0 = 1.14 * 10**-10 so \n",
    "#that H0 is now very close to the latest (upper) estimate. Now a0 and H0 are consistent.\n",
    "H0 = 2*pi*(a0)/c\n",
    "\n",
    "#The Hubble constant used is h50, given as H0/50 km/s/Mpc. We need to multiply most of the quantities in\n",
    "#the table by this to obtain \n",
    "h50 = H0/(50*10**3/(1000*kp))\n",
    "\n",
    "#In the database, there is an optional parameter c that indicates a different way of calculating the\n",
    "#error. Only some lines have it, so it throws pandas off. Removed it in the file itself\n",
    "#a2065, a2063, ngc5846 are missing from reiprich 2001 for rho_0. Had to add them in by hand \n",
    "#in the rho_0 file.\n",
    "#In the PhD thesis Reiprich cut the table wrong so they're invisible! Unbelievable\n",
    "\n",
    "#Importing the text file\n",
    "df = pd.read_csv('cluster_database/cluster_data.txt', delimiter='\\s+', header = None)\n",
    "\n",
    "#As the columns have no names in the initial file, we add the names here\n",
    "df.columns = ['name', 'beta_frame', 'beta+', 'beta-', 'r_c_frame', 'r_c+', 'r_c-', 'T', 'T+', 'T-',\n",
    "              'm5_frame', 'm5+', 'm5-', 'r5', 'r5+', 'r5-', 'm2', 'm2+', 'm2-', 'r2', 'r2+', 'r2-',\n",
    "              'mtot_frame', 'ref']\n",
    "\n",
    "# Using readline to open file containing rho_0 values and storing each line in Lines\n",
    "file1 = open('cluster_database/rho_0.txt', 'r') \n",
    "Lines = file1.readlines() \n",
    "file1.close()\n",
    "\n",
    "#Initialising numpy array to hold the values of rho_0\n",
    "rho_0_np = np.zeros((len(Lines),1))\n",
    "\n",
    "#Storing the content of each line into the numpy array\n",
    "for i, line in enumerate(Lines):\n",
    "    \n",
    "    #assigning each line to a member of the rho_0 numpy array\n",
    "    rho_0_np[i] = line\n",
    "\n",
    "#Flattening the array before putting it in the dataframe    \n",
    "rho_0_np = rho_0_np[:,0]\n",
    "#Adding the rho_0 values to the dataframe\n",
    "df['rho_0_frame'] = pd.Series(rho_0_np, index = df.index)\n",
    "    \n",
    "#The radii are given in units of kpc/h50. To get them in kpc we need to divide by h50\n",
    "#Only one useful for now to be scaled is r_c\n",
    "df.loc[:, 'r_c_frame'] = df.loc[:, 'r_c_frame']/h50\n",
    "\n",
    "# # Displaying the full, uncut database with all parameters\n",
    "# with pd.option_context('display.max_rows', None, 'display.max_columns', None):\n",
    "#     print(df.head(5))"
   ]
  },
  {
   "cell_type": "code",
   "execution_count": 2,
   "metadata": {},
   "outputs": [
    {
     "data": {
      "text/plain": [
       "1.4745024604772983"
      ]
     },
     "execution_count": 2,
     "metadata": {},
     "output_type": "execute_result"
    }
   ],
   "source": [
    "h50"
   ]
  }
 ],
 "metadata": {
  "kernelspec": {
   "display_name": "Python 3",
   "language": "python",
   "name": "python3"
  },
  "language_info": {
   "codemirror_mode": {
    "name": "ipython",
    "version": 3
   },
   "file_extension": ".py",
   "mimetype": "text/x-python",
   "name": "python",
   "nbconvert_exporter": "python",
   "pygments_lexer": "ipython3",
   "version": "3.6.7"
  }
 },
 "nbformat": 4,
 "nbformat_minor": 2
}
