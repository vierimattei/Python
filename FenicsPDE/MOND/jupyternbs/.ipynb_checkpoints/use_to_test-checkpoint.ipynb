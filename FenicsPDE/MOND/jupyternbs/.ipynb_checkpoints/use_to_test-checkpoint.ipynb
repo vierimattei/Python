{
 "cells": [
  {
   "cell_type": "code",
   "execution_count": 35,
   "metadata": {},
   "outputs": [],
   "source": [
    "lolo = ['sad', 'asd', 'asdas']"
   ]
  },
  {
   "cell_type": "code",
   "execution_count": 36,
   "metadata": {},
   "outputs": [
    {
     "name": "stdout",
     "output_type": "stream",
     "text": [
      "sad\n",
      "asd\n",
      "asdas\n"
     ]
    }
   ],
   "source": [
    "for troll in lolo:\n",
    "    print(troll)"
   ]
  },
  {
   "cell_type": "code",
   "execution_count": 37,
   "metadata": {},
   "outputs": [
    {
     "name": "stdout",
     "output_type": "stream",
     "text": [
      "(0, 'sad')\n",
      "(1, 'asd')\n",
      "(2, 'asdas')\n"
     ]
    }
   ],
   "source": [
    "for troll in enumerate(lolo):\n",
    "    print(troll)"
   ]
  },
  {
   "cell_type": "code",
   "execution_count": 38,
   "metadata": {},
   "outputs": [
    {
     "name": "stdout",
     "output_type": "stream",
     "text": [
      "0\n",
      "1\n",
      "2\n"
     ]
    }
   ],
   "source": [
    "for troll in enumerate(lolo):\n",
    "    print(troll[0])"
   ]
  },
  {
   "cell_type": "code",
   "execution_count": 42,
   "metadata": {},
   "outputs": [
    {
     "name": "stdout",
     "output_type": "stream",
     "text": [
      "We're on member 0 of the list, which is sad\n",
      "We're on member 1 of the list, which is asd\n",
      "We're on member 2 of the list, which is asdas\n"
     ]
    }
   ],
   "source": [
    "for i, troll in enumerate(lolo):\n",
    "    print('We\\'re on member {} of the list, which is {}'.format(i, troll))"
   ]
  },
  {
   "cell_type": "code",
   "execution_count": null,
   "metadata": {},
   "outputs": [],
   "source": []
  }
 ],
 "metadata": {
  "kernelspec": {
   "display_name": "Python 3",
   "language": "python",
   "name": "python3"
  },
  "language_info": {
   "codemirror_mode": {
    "name": "ipython",
    "version": 3
   },
   "file_extension": ".py",
   "mimetype": "text/x-python",
   "name": "python",
   "nbconvert_exporter": "python",
   "pygments_lexer": "ipython3",
   "version": "3.6.7"
  }
 },
 "nbformat": 4,
 "nbformat_minor": 2
}
