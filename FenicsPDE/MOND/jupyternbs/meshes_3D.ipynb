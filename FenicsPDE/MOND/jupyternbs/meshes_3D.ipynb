{
 "cells": [
  {
   "cell_type": "markdown",
   "metadata": {},
   "source": [
    "# Testing 3D Meshes using the mshr module\n",
    "## Starting with a simple 3D Sphere"
   ]
  },
  {
   "cell_type": "code",
   "execution_count": 1,
   "metadata": {},
   "outputs": [],
   "source": [
    "#importing the meshr module and the fenics module\n",
    "from dolfin import *\n",
    "from mshr import *\n",
    "\n",
    "#importing matplotlib to plot results \n",
    "from matplotlib import pyplot as plt\n",
    "\n",
    "#importing time to time length of mesh creation\n",
    "import time\n",
    "\n",
    "#importing numpy to work with arrays\n",
    "import numpy as np\n",
    "\n",
    "#importing random to distribute masses on a mesh\n",
    "import random\n",
    "\n",
    "#defining the radius of a circle\n",
    "big_radius = 10\n",
    "\n",
    "#defining center of the circle\n",
    "big_center = Point(0,0,0)\n",
    "\n",
    "#Defining a Sphere object with the same syntax as the Circle function\n",
    "big_sphere = Sphere(big_center, big_radius)\n",
    "\n",
    "#defining the domain\n",
    "domain = big_sphere\n",
    "\n",
    "#defining the mesh\n",
    "mesh = generate_mesh(big_sphere, 20)\n",
    "#mesh"
   ]
  },
  {
   "cell_type": "markdown",
   "metadata": {},
   "source": [
    "## Looking at the time taken to generate mesh, compared to the mesh resolution"
   ]
  },
  {
   "cell_type": "code",
   "execution_count": 2,
   "metadata": {},
   "outputs": [],
   "source": [
    "mesh_size = np.arange(6,30,2)\n",
    "mesh_time = []\n",
    "\n",
    "for i, size in enumerate(mesh_size):\n",
    "    #getting time at start of the loop\n",
    "    start_time = time.time()\n",
    "    #generating mesh of the given resolution\n",
    "    mesh = generate_mesh(domain, size)\n",
    "    #finding time taken since start of loop iteration\n",
    "    end_time = time.time()\n",
    "    #total time taken\n",
    "    time_taken = end_time - start_time\n",
    "    #appending to empty array\n",
    "    mesh_time = np.append(time_taken, mesh_time)  \n",
    "\n",
    "#as we append, the times are in reverse order, so we need to flip the array along 0 axis\n",
    "mesh_time = np.flip(mesh_time,0)"
   ]
  },
  {
   "cell_type": "markdown",
   "metadata": {},
   "source": [
    "## Plotting the results on a bar chart, and comparing to a cubic relationship"
   ]
  },
  {
   "cell_type": "code",
   "execution_count": 3,
   "metadata": {},
   "outputs": [],
   "source": [
    "\n",
    "\n",
    "# plt.bar(mesh_size, mesh_time, )\n",
    "# plt.plot(mesh_size, mesh_time, label = 'runtime')\n",
    "# #plotting quadratic relation, scaled\n",
    "# plt.plot(mesh_size, 1.2*mesh_size**(3)/4000, linestyle = '--', label = 'cubic')\n",
    "# plt.title('Mesh generation time taken')\n",
    "# plt.xlabel('Mesh size')\n",
    "# plt.ylabel('Time taken (s)')\n",
    "# plt.grid()\n",
    "# plt.tight_layout()\n",
    "# plt.legend()"
   ]
  },
  {
   "cell_type": "markdown",
   "metadata": {},
   "source": [
    "## Subtracting geometries (sphere with a hole)"
   ]
  },
  {
   "cell_type": "code",
   "execution_count": 4,
   "metadata": {},
   "outputs": [],
   "source": [
    "#defining the outside sphere as the one obtained above\n",
    "big_domain = big_sphere\n",
    "\n",
    "#radius of inner circle\n",
    "in_radius = 5\n",
    "\n",
    "#center of inner circle\n",
    "in_center = Point(0,10,0)\n",
    "\n",
    "#inner sphere object\n",
    "in_sphere = Sphere(in_center, in_radius)\n",
    "\n",
    "#subtracting the two geometries\n",
    "domain_hollow = big_domain - in_sphere\n",
    "\n",
    "#generating and showing mesh\n",
    "#generate mesh creates an object of the Mesh class\n",
    "mesh = generate_mesh(domain_hollow, 20)\n",
    "#mesh\n"
   ]
  },
  {
   "cell_type": "markdown",
   "metadata": {},
   "source": [
    "# Looking at properties of the mesh\n",
    "## First, defining the mesh in its own cell so we don't have to recompute it every time"
   ]
  },
  {
   "cell_type": "code",
   "execution_count": 5,
   "metadata": {},
   "outputs": [],
   "source": [
    "big_domain = big_sphere\n",
    "\n",
    "#generating and showing mesh\n",
    "mesh = generate_mesh(domain_hollow, 20)\n",
    "#mesh"
   ]
  },
  {
   "cell_type": "markdown",
   "metadata": {},
   "source": [
    "## Inspecting mesh propertes"
   ]
  },
  {
   "cell_type": "markdown",
   "metadata": {},
   "source": [
    "### Querying the type of element used"
   ]
  },
  {
   "cell_type": "code",
   "execution_count": 6,
   "metadata": {},
   "outputs": [
    {
     "data": {
      "text/plain": [
       "'tetrahedron'"
      ]
     },
     "execution_count": 6,
     "metadata": {},
     "output_type": "execute_result"
    }
   ],
   "source": [
    "mesh.cell_name()"
   ]
  },
  {
   "cell_type": "markdown",
   "metadata": {},
   "source": [
    "## Cells"
   ]
  },
  {
   "cell_type": "code",
   "execution_count": 7,
   "metadata": {},
   "outputs": [
    {
     "name": "stdout",
     "output_type": "stream",
     "text": [
      "mesh.cells provides a (17485, 4) numpy array\n",
      "there are 17485 cells in the mesh\n"
     ]
    },
    {
     "data": {
      "text/plain": [
       "3297"
      ]
     },
     "execution_count": 7,
     "metadata": {},
     "output_type": "execute_result"
    }
   ],
   "source": [
    "#mesh.cells() gives a numpy array consisting of all cell IDs in the mesh\n",
    "print('mesh.cells provides a {} numpy array'.format(mesh.cells().shape))\n",
    "\n",
    "#num_cells() gives the total amount of cells in the mesh\n",
    "print('there are {} cells in the mesh'.format(mesh.num_cells()))\n",
    "\n",
    "#The contents of mesh.cells() give the indices of the vertices\n",
    "mesh.cells().max()"
   ]
  },
  {
   "cell_type": "markdown",
   "metadata": {},
   "source": [
    "## Coordinates"
   ]
  },
  {
   "cell_type": "code",
   "execution_count": 8,
   "metadata": {},
   "outputs": [
    {
     "name": "stdout",
     "output_type": "stream",
     "text": [
      "the mesh has 3298 vertices\n",
      "mesh coordinates provides a (3298, 3) numpy array\n"
     ]
    }
   ],
   "source": [
    "#num_vertices gives the number of vertices in the mesh\n",
    "print('the mesh has {} vertices'.format(mesh.num_vertices()))\n",
    "\n",
    "#mesh coordinates give the x,y,z coordimates of each vertex\n",
    "print('mesh coordinates provides a {} numpy array'.format(mesh.coordinates().shape))\n",
    "\n",
    "#Storing x, y, z coordinates of each point in a separate numpy array\n",
    "x_coords = mesh.coordinates()[:,0]\n",
    "y_coords = mesh.coordinates()[:,1]\n",
    "z_coords = mesh.coordinates()[:,2]\n",
    "\n",
    "#using the numpy linalg.norm function to get the radius(norm) of each vertex\n",
    "r_coords = np.linalg.norm(mesh.coordinates(), axis=1)"
   ]
  },
  {
   "cell_type": "markdown",
   "metadata": {},
   "source": [
    "### Looking at the radial distribution of the points"
   ]
  },
  {
   "cell_type": "markdown",
   "metadata": {},
   "source": [
    "#### Defining a function to calculate the histogram"
   ]
  },
  {
   "cell_type": "code",
   "execution_count": 9,
   "metadata": {},
   "outputs": [],
   "source": [
    "def radial_dist_hist(mesh):\n",
    "    \n",
    "    #Looking at how the points are distributed radially. If they are uniform, their density\n",
    "    #should increase with r^3, scaled by 4/3 for the volume of the sphere\n",
    "    #plotting histogram of point density radially\n",
    "    plt.hist(r_coords, density=True, bins=10, label = 'distribution')\n",
    "\n",
    "    #defining a linespace of same size of radius\n",
    "    points_plot = np.linspace(0,10,mesh.num_vertices())\n",
    "    #plotting a cubic relation, scaled by the max element^3 to be of order unity\n",
    "    plt.plot(points_plot, np.power(points_plot,2)/(2*np.max(points_plot))**(2), label = 'cubic')\n",
    "    plt.grid()\n",
    "    plt.tight_layout()\n",
    "    plt.legend()"
   ]
  },
  {
   "cell_type": "code",
   "execution_count": 10,
   "metadata": {},
   "outputs": [
    {
     "data": {
      "image/png": "[encoded data removed]",
      "text/plain": [
       "<Figure size 432x288 with 1 Axes>"
      ]
     },
     "metadata": {
      "needs_background": "light"
     },
     "output_type": "display_data"
    }
   ],
   "source": [
    "radial_dist_hist(mesh)"
   ]
  },
  {
   "cell_type": "markdown",
   "metadata": {},
   "source": [
    "## Subdomains in 3D (are not supported :\\ )"
   ]
  },
  {
   "cell_type": "code",
   "execution_count": 11,
   "metadata": {},
   "outputs": [],
   "source": [
    "# domain_with_subs = Sphere(big_center, big_radius)\n",
    "\n",
    "# #origin for each hollow sphere\n",
    "# hollow_origin = Point(0,0,0)\n",
    "\n",
    "# #determining how many rings we create to refine mesh\n",
    "# how_fine = 10\n",
    "\n",
    "# #overall outer radius of concentric rings\n",
    "# hollow_outer = big_radius/3\n",
    "\n",
    "# #radii of the subdomains we want to create, out to the radius of the domain big_radius,\n",
    "# #in how_fine steps. We subtract ring_outer/how_fine from the inner and add it to the outer \n",
    "# #so the outer doesn't go out of bounds\n",
    "# radius_in = np.linspace(hollow_outer/how_fine,hollow_outer*(1-1/how_fine),how_fine)\n",
    "# radius_out = big_radius/how_fine + radius_in\n",
    "\n",
    "# #using slightly modified version of make_ring function I made in 2D\n",
    "# def make_hollow(origin, radius_in, radius_out):\n",
    "#     sphere_out = Sphere(origin, radius_out)\n",
    "#     sphere_in = Sphere(origin, radius_in)\n",
    "#     hollow = sphere_out - sphere_in\n",
    "#     return hollow\n",
    "\n",
    "# #producing concentric rings from radius_in and radius_out\n",
    "# hollows = [make_hollow(hollow_origin, radius_in[i], radius_out[i]) for i, hollow in enumerate(radius_in)]\n",
    "\n",
    "# #assigning concentric rings to subdomains\n",
    "# [domain_with_subs.set_subdomain(i+1, hollow) for i, hollow in enumerate(hollows)]\n",
    "\n",
    "# # mesh = generate_mesh(domain_with_subs, 10)\n",
    "# #mesh"
   ]
  },
  {
   "cell_type": "markdown",
   "metadata": {},
   "source": [
    "## The code above gives an error if you ask to create the mesh, because subdomains are not supported in 3D!"
   ]
  },
  {
   "cell_type": "markdown",
   "metadata": {},
   "source": [
    "## To be able to manage mesh refinements arbitrarily, we look at the MeshEditor class"
   ]
  },
  {
   "cell_type": "code",
   "execution_count": 12,
   "metadata": {},
   "outputs": [],
   "source": [
    "simple_sphere = Sphere(big_center, big_radius)\n",
    "\n",
    "outside_point = Point(0,0,20)\n",
    "\n",
    "mesh = generate_mesh(simple_sphere, 10)\n",
    "#mesh"
   ]
  },
  {
   "cell_type": "code",
   "execution_count": 13,
   "metadata": {},
   "outputs": [
    {
     "ename": "TypeError",
     "evalue": "__init__(): incompatible constructor arguments. The following argument types are supported:\n    1. dolfin.cpp.mesh.MeshEditor()\n\nInvoked with: <dolfin.cpp.mesh.Mesh object at 0x7fef04c211a8>",
     "output_type": "error",
     "traceback": [
      "\u001b[0;31m---------------------------------------------------------------------------\u001b[0m",
      "\u001b[0;31mTypeError\u001b[0m                                 Traceback (most recent call last)",
      "\u001b[0;32m<ipython-input-13-51617d41399d>\u001b[0m in \u001b[0;36m<module>\u001b[0;34m\u001b[0m\n\u001b[0;32m----> 1\u001b[0;31m \u001b[0medit_mesh\u001b[0m \u001b[0;34m=\u001b[0m \u001b[0mMeshEditor\u001b[0m\u001b[0;34m(\u001b[0m\u001b[0mmesh\u001b[0m\u001b[0;34m)\u001b[0m\u001b[0;34m\u001b[0m\u001b[0;34m\u001b[0m\u001b[0m\n\u001b[0m",
      "\u001b[0;31mTypeError\u001b[0m: __init__(): incompatible constructor arguments. The following argument types are supported:\n    1. dolfin.cpp.mesh.MeshEditor()\n\nInvoked with: <dolfin.cpp.mesh.Mesh object at 0x7fef04c211a8>"
     ]
    }
   ],
   "source": [
    "edit_mesh = MeshEditor(mesh)"
   ]
  },
  {
   "cell_type": "markdown",
   "metadata": {},
   "source": [
    "## Looking at the MeshCoordinates class"
   ]
  },
  {
   "cell_type": "code",
   "execution_count": null,
   "metadata": {},
   "outputs": [],
   "source": [
    "#instantiating the object coordinates from the class MeshCoordinates, from our mesh\n",
    "coordinates = MeshCoordinates(mesh)"
   ]
  },
  {
   "cell_type": "code",
   "execution_count": null,
   "metadata": {},
   "outputs": [],
   "source": [
    "coordinates"
   ]
  },
  {
   "cell_type": "code",
   "execution_count": null,
   "metadata": {},
   "outputs": [],
   "source": [
    "#finding the values of the vertices with compute_vertex_value (values in what sense? not sure)\n",
    "print('compute_vertex_values returns an {} np array'.format(coordinates.compute_vertex_values(mesh).shape))\n",
    "coordinates.compute_vertex_values(mesh)[0:6]\n",
    "\n",
    "#finding the amount of mesh points with count()\n",
    "print('the mesh has {} vertices'.format(coordinates.count()))"
   ]
  },
  {
   "cell_type": "markdown",
   "metadata": {},
   "source": [
    "## MeshEditor class (stopped here for now, to work on implementing the MOND equation in full with a simple spherical mesh)"
   ]
  },
  {
   "cell_type": "code",
   "execution_count": null,
   "metadata": {},
   "outputs": [],
   "source": [
    "#declaring a MeshEditor object \n",
    "edit_mesh = MeshEditor()"
   ]
  },
  {
   "cell_type": "code",
   "execution_count": null,
   "metadata": {},
   "outputs": [],
   "source": [
    "#to open a mesh in the mesh editor, we need the cell type from the cell_name() method of mesh\n",
    "edit_mesh.open(mesh, mesh.cell_name(), 3, 3)"
   ]
  },
  {
   "cell_type": "code",
   "execution_count": null,
   "metadata": {},
   "outputs": [],
   "source": [
    "point1 = Point()\n",
    "\n",
    "[Point]"
   ]
  },
  {
   "cell_type": "code",
   "execution_count": null,
   "metadata": {},
   "outputs": [],
   "source": []
  }
 ],
 "metadata": {
  "kernelspec": {
   "display_name": "Python 3",
   "language": "python",
   "name": "python3"
  },
  "language_info": {
   "codemirror_mode": {
    "name": "ipython",
    "version": 3
   },
   "file_extension": ".py",
   "mimetype": "text/x-python",
   "name": "python",
   "nbconvert_exporter": "python",
   "pygments_lexer": "ipython3",
   "version": "3.6.7"
  }
 },
 "nbformat": 4,
 "nbformat_minor": 2
}
