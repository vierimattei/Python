{
 "cells": [
  {
   "cell_type": "code",
   "execution_count": 5,
   "metadata": {
    "scrolled": false
   },
   "outputs": [
    {
     "data": {
      "text/html": [
       "<style>.container { width:100% !important; }</style>"
      ],
      "text/plain": [
       "<IPython.core.display.HTML object>"
      ]
     },
     "metadata": {},
     "output_type": "display_data"
    },
    {
     "name": "stdout",
     "output_type": "stream",
     "text": [
      "    name  beta_frame  beta+  beta-  r_c_frame  r_c+  r_c-    T   T+   T-  \\\n",
      "0  A0085       0.532  0.004  0.004         83     3     3  6.9  0.4  0.4   \n",
      "1  A0119       0.675  0.026  0.023        501    28    26  5.6  0.3  0.3   \n",
      "\n",
      "   m5_frame   m5+   m5-    r5   r5+   r5-     m2   m2+   m2-    r2   r2+  \\\n",
      "0      6.84  0.66  0.66  1.68  0.05  0.06  10.80  1.12  1.04  2.66  0.09   \n",
      "1      6.23  0.92  0.76  1.63  0.08  0.07  10.76  1.50  1.39  2.66  0.11   \n",
      "\n",
      "    r2-  mtot_frame  ref  rho_0_frame  \n",
      "0  0.09       12.21    1        0.337  \n",
      "1  0.13       12.24    1        0.026  \n"
     ]
    },
    {
     "data": {
      "text/plain": [
       "0       56.290174\n",
       "1      339.775628\n",
       "2       30.518769\n",
       "3       12.885702\n",
       "4       28.484184\n",
       "5      104.442010\n",
       "6      305.187690\n",
       "7      166.835937\n",
       "8       41.369887\n",
       "9      118.005907\n",
       "10      22.380431\n",
       "11     195.998317\n",
       "12     182.434419\n",
       "13      66.463097\n",
       "14      30.518769\n",
       "15      96.303671\n",
       "16     382.501905\n",
       "17      20.345846\n",
       "18     512.037125\n",
       "19     158.697599\n",
       "20     409.629700\n",
       "21     267.208778\n",
       "22     162.088573\n",
       "23      33.909743\n",
       "24      63.750317\n",
       "25     259.748634\n",
       "26       7.460144\n",
       "27     292.301988\n",
       "28       4.069169\n",
       "29      25.093210\n",
       "          ...    \n",
       "76      48.151836\n",
       "77     137.673558\n",
       "78     233.299034\n",
       "79     121.396881\n",
       "80       7.460144\n",
       "81     120.718686\n",
       "82      68.497682\n",
       "83     285.520039\n",
       "84     191.250952\n",
       "85     110.545763\n",
       "86     173.617886\n",
       "87     176.330665\n",
       "88     265.852388\n",
       "89     156.663014\n",
       "90      16.954872\n",
       "91       4.747364\n",
       "92      46.117251\n",
       "93     202.780265\n",
       "94     189.216368\n",
       "95     189.216368\n",
       "96     157.341209\n",
       "97     193.285537\n",
       "98     270.599752\n",
       "99     247.541126\n",
       "100    238.046398\n",
       "101    402.169556\n",
       "102    271.956142\n",
       "103    222.447916\n",
       "104     58.324759\n",
       "105    204.136655\n",
       "Name: r_c_frame, Length: 106, dtype: float64"
      ]
     },
     "execution_count": 5,
     "metadata": {},
     "output_type": "execute_result"
    }
   ],
   "source": [
    "import numpy as np\n",
    "\n",
    "#Increasing the width of the notebook (visual difference only)\n",
    "from IPython.core.display import display, HTML\n",
    "display(HTML(\"<style>.container { width:100% !important; }</style>\"))\n",
    "\n",
    "import pandas as pd\n",
    "\n",
    "from MONDquantities import*\n",
    "\n",
    "#All the measurements use a reduced Hubble constant. As the Hubble constant can be expressed in terms\n",
    "#of Miglrom's constant and speed of light, we express it as that. I modified a0 = 1.14 * 10**-10 so \n",
    "#that H0 is now very close to the latest (upper) estimate. Now a0 and H0 are consistent.\n",
    "H0 = 2*pi*(a0)/c\n",
    "\n",
    "#The Hubble constant used is h50, given as H0/50 km/s/Mpc. We need to multiply most of the quantities in\n",
    "#the table by this to obtain \n",
    "h50 = H0/(50*10**3/(1000*kp))\n",
    "\n",
    "#In the database, there is an optional parameter c that indicates a different way of calculating the\n",
    "#error. Only some lines have it, so it throws pandas off. Removed it in the file itself\n",
    "#a2065, a2063, ngc5846 are missing from reiprich 2001 for rho_0. Had to add them in by hand \n",
    "#in the rho_0 file.\n",
    "#In the PhD thesis Reiprich cut the table wrong so they're invisible! Unbelievable\n",
    "\n",
    "#Importing the text file\n",
    "df = pd.read_csv('cluster_database/cluster_data.txt', delimiter='\\s+', header = None)\n",
    "\n",
    "#As the columns have no names in the initial file, we add the names here\n",
    "df.columns = ['name', 'beta_frame', 'beta+', 'beta-', 'r_c_frame', 'r_c+', 'r_c-', 'T', 'T+', 'T-',\n",
    "              'm5_frame', 'm5+', 'm5-', 'r5', 'r5+', 'r5-', 'm2', 'm2+', 'm2-', 'r2', 'r2+', 'r2-',\n",
    "              'mtot_frame', 'ref']\n",
    "\n",
    "# Using readline to open file containing rho_0 values and storing each line in Lines\n",
    "file1 = open('cluster_database/rho_0.txt', 'r') \n",
    "Lines = file1.readlines() \n",
    "file1.close()\n",
    "\n",
    "#Initialising numpy array to hold the values of rho_0\n",
    "rho_0_np = np.zeros((len(Lines),1))\n",
    "\n",
    "#Storing the content of each line into the numpy array\n",
    "for i, line in enumerate(Lines):\n",
    "    \n",
    "    #assigning each line to a member of the rho_0 numpy array\n",
    "    rho_0_np[i] = line\n",
    "\n",
    "#Flattening the array before putting it in the dataframe    \n",
    "rho_0_np = rho_0_np[:,0]\n",
    "#Adding the rho_0 values to the dataframe\n",
    "df['rho_0_frame'] = pd.Series(rho_0_np, index = df.index)\n",
    "\n",
    "# Displaying the full, uncut database with all parameters\n",
    "with pd.option_context('display.max_rows', None, 'display.max_columns', None):\n",
    "    print(df.head(2))\n",
    "    \n",
    "#The radii are given in units of kpc/h50. To get them in kpc we need to divide by h50\n",
    "#Only one useful for now to be scaled is r_c\n",
    "df.loc[:, 'r_c_frame'] = df.loc[:, 'r_c_frame']/h50"
   ]
  },
  {
   "cell_type": "code",
   "execution_count": 2,
   "metadata": {},
   "outputs": [
    {
     "data": {
      "text/plain": [
       "1.4745024604772983"
      ]
     },
     "execution_count": 2,
     "metadata": {},
     "output_type": "execute_result"
    }
   ],
   "source": [
    "h50"
   ]
  }
 ],
 "metadata": {
  "kernelspec": {
   "display_name": "Python 3",
   "language": "python",
   "name": "python3"
  },
  "language_info": {
   "codemirror_mode": {
    "name": "ipython",
    "version": 3
   },
   "file_extension": ".py",
   "mimetype": "text/x-python",
   "name": "python",
   "nbconvert_exporter": "python",
   "pygments_lexer": "ipython3",
   "version": "3.6.7"
  }
 },
 "nbformat": 4,
 "nbformat_minor": 2
}
