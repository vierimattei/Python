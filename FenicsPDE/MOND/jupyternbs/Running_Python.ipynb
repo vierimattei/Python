{
 "cells": [
  {
   "cell_type": "markdown",
   "metadata": {},
   "source": [
    "# This notebook is used to run the python code through Jupyter as if it was a command line. So we run python files, and can use commands such as mpirun to run stuff in parallel.\n",
    "# Need to put a '!' in fron of every command meant for the command line"
   ]
  },
  {
   "cell_type": "code",
   "execution_count": null,
   "metadata": {},
   "outputs": [],
   "source": [
    "#Converting the notebook to a runnable python file \n",
    "!jupyter nbconvert --to script MONDtest_NoFunctions_MPI.ipynb"
   ]
  },
  {
   "cell_type": "code",
   "execution_count": null,
   "metadata": {
    "scrolled": false
   },
   "outputs": [],
   "source": [
    "#Running the full script in parallel using MPI. Optimal number of processes:6\n",
    "! mpirun -n 6 python3 MONDtest_NoFunctions_MPI.py"
   ]
  },
  {
   "cell_type": "code",
   "execution_count": null,
   "metadata": {},
   "outputs": [],
   "source": []
  }
 ],
 "metadata": {
  "kernelspec": {
   "display_name": "Python 3",
   "language": "python",
   "name": "python3"
  },
  "language_info": {
   "codemirror_mode": {
    "name": "ipython",
    "version": 3
   },
   "file_extension": ".py",
   "mimetype": "text/x-python",
   "name": "python",
   "nbconvert_exporter": "python",
   "pygments_lexer": "ipython3",
   "version": "3.6.7"
  }
 },
 "nbformat": 4,
 "nbformat_minor": 2
}
